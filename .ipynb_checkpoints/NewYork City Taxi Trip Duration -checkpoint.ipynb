{
 "cells": [
  {
   "cell_type": "markdown",
   "metadata": {
    "colab_type": "text",
    "id": "a3AkIP7bdXHB"
   },
   "source": [
    "# Authenticating With Google Drive\n"
   ]
  },
  {
   "cell_type": "code",
   "execution_count": 2,
   "metadata": {
    "colab": {
     "base_uri": "https://localhost:8080/",
     "height": 51
    },
    "colab_type": "code",
    "executionInfo": {
     "elapsed": 8523,
     "status": "ok",
     "timestamp": 1552271901516,
     "user": {
      "displayName": "Dalip Patra",
      "photoUrl": "",
      "userId": "05279892857404795105"
     },
     "user_tz": -330
    },
    "id": "dTWiQVHw8rSI",
    "outputId": "add33452-7cb8-4890-f937-d03ae0bd36b6"
   },
   "outputs": [
    {
     "name": "stderr",
     "output_type": "stream",
     "text": [
      "twisted 18.7.0 requires PyHamcrest>=1.9.0, which is not installed.\n",
      "You are using pip version 10.0.1, however version 19.0.3 is available.\n",
      "You should consider upgrading via the 'python -m pip install --upgrade pip' command.\n"
     ]
    },
    {
     "ename": "ModuleNotFoundError",
     "evalue": "No module named 'google.colab'",
     "output_type": "error",
     "traceback": [
      "\u001b[1;31m---------------------------------------------------------------------------\u001b[0m",
      "\u001b[1;31mModuleNotFoundError\u001b[0m                       Traceback (most recent call last)",
      "\u001b[1;32m<ipython-input-2-448b89f93cee>\u001b[0m in \u001b[0;36m<module>\u001b[1;34m()\u001b[0m\n\u001b[0;32m      2\u001b[0m \u001b[1;32mfrom\u001b[0m \u001b[0mpydrive\u001b[0m\u001b[1;33m.\u001b[0m\u001b[0mauth\u001b[0m \u001b[1;32mimport\u001b[0m \u001b[0mGoogleAuth\u001b[0m\u001b[1;33m\u001b[0m\u001b[0m\n\u001b[0;32m      3\u001b[0m \u001b[1;32mfrom\u001b[0m \u001b[0mpydrive\u001b[0m\u001b[1;33m.\u001b[0m\u001b[0mdrive\u001b[0m \u001b[1;32mimport\u001b[0m \u001b[0mGoogleDrive\u001b[0m\u001b[1;33m\u001b[0m\u001b[0m\n\u001b[1;32m----> 4\u001b[1;33m \u001b[1;32mfrom\u001b[0m \u001b[0mgoogle\u001b[0m\u001b[1;33m.\u001b[0m\u001b[0mcolab\u001b[0m \u001b[1;32mimport\u001b[0m \u001b[0mauth\u001b[0m\u001b[1;33m\u001b[0m\u001b[0m\n\u001b[0m\u001b[0;32m      5\u001b[0m \u001b[1;32mfrom\u001b[0m \u001b[0moauth2client\u001b[0m\u001b[1;33m.\u001b[0m\u001b[0mclient\u001b[0m \u001b[1;32mimport\u001b[0m \u001b[0mGoogleCredentials\u001b[0m\u001b[1;33m\u001b[0m\u001b[0m\n",
      "\u001b[1;31mModuleNotFoundError\u001b[0m: No module named 'google.colab'"
     ]
    }
   ],
   "source": [
    "!pip install -U -q pyDrive\n",
    "from pydrive.auth import GoogleAuth\n",
    "from pydrive.drive import GoogleDrive\n",
    "from google.colab import auth\n",
    "from oauth2client.client import GoogleCredentials"
   ]
  },
  {
   "cell_type": "code",
   "execution_count": null,
   "metadata": {
    "colab": {},
    "colab_type": "code",
    "id": "klYyxnJS-eqi"
   },
   "outputs": [],
   "source": [
    "#authenticate\n",
    "auth.authenticate_user()\n",
    "gauth = GoogleAuth()\n",
    "gauth.credentials = GoogleCredentials.get_application_default()\n",
    "drive = GoogleDrive(gauth)"
   ]
  },
  {
   "cell_type": "markdown",
   "metadata": {
    "colab_type": "text",
    "id": "rMbmBsNceQYY"
   },
   "source": [
    "# Importing Dependencies."
   ]
  },
  {
   "cell_type": "code",
   "execution_count": null,
   "metadata": {
    "colab": {},
    "colab_type": "code",
    "id": "qr3T9uklEA9I"
   },
   "outputs": [],
   "source": [
    "import pandas as pd\n",
    "import numpy as np\n",
    "import seaborn as sns\n",
    "import matplotlib.pyplot as plt\n",
    "%matplotlib inline\n"
   ]
  },
  {
   "cell_type": "markdown",
   "metadata": {
    "colab_type": "text",
    "id": "6RPPa4r9ex-0"
   },
   "source": [
    "# Loading the Datasets from Google Drive"
   ]
  },
  {
   "cell_type": "code",
   "execution_count": null,
   "metadata": {
    "colab": {},
    "colab_type": "code",
    "id": "JQaDmWvJGmcF"
   },
   "outputs": [],
   "source": [
    "train_downloaded = drive.CreateFile({'id':'1zBZDF5jcG2PtUVisT33sihl2u0CEJClc'})\n",
    "train_downloaded.GetContentFile('train.csv')\n",
    "test_downloaded = drive.CreateFile({'id':'1OsLQL-95ZuISVkgvsW5h0WxEv3LzcsVK'})\n",
    "test_downloaded.GetContentFile('test.csv')"
   ]
  },
  {
   "cell_type": "code",
   "execution_count": null,
   "metadata": {
    "colab": {
     "base_uri": "https://localhost:8080/",
     "height": 309
    },
    "colab_type": "code",
    "executionInfo": {
     "elapsed": 40328,
     "status": "ok",
     "timestamp": 1552271935244,
     "user": {
      "displayName": "Dalip Patra",
      "photoUrl": "",
      "userId": "05279892857404795105"
     },
     "user_tz": -330
    },
    "id": "59GP0jTJIReP",
    "outputId": "613fbed3-f5ef-42bc-d6ff-6e018736258d"
   },
   "outputs": [],
   "source": [
    "df_train=pd.read_csv('train.csv')\n",
    "df_train.head()"
   ]
  },
  {
   "cell_type": "code",
   "execution_count": null,
   "metadata": {
    "colab": {
     "base_uri": "https://localhost:8080/",
     "height": 204
    },
    "colab_type": "code",
    "executionInfo": {
     "elapsed": 39947,
     "status": "ok",
     "timestamp": 1552271936972,
     "user": {
      "displayName": "Dalip Patra",
      "photoUrl": "",
      "userId": "05279892857404795105"
     },
     "user_tz": -330
    },
    "id": "fhPEizFaIjV2",
    "outputId": "7b118a06-0869-4c9a-87f1-8705454a88fb"
   },
   "outputs": [],
   "source": [
    "df_test = pd.read_csv('test.csv')\n",
    "df_test.head()"
   ]
  },
  {
   "cell_type": "code",
   "execution_count": null,
   "metadata": {
    "colab": {
     "base_uri": "https://localhost:8080/",
     "height": 297
    },
    "colab_type": "code",
    "executionInfo": {
     "elapsed": 1406,
     "status": "ok",
     "timestamp": 1552271966626,
     "user": {
      "displayName": "Dalip Patra",
      "photoUrl": "",
      "userId": "05279892857404795105"
     },
     "user_tz": -330
    },
    "id": "08gAsKqrLcW_",
    "outputId": "1f3fb954-f698-4d38-f732-2a086d0f3e41"
   },
   "outputs": [],
   "source": [
    "pd.set_option('display.float_format', lambda x: '%.3f' % x)\n",
    "df_train.describe()"
   ]
  },
  {
   "cell_type": "markdown",
   "metadata": {
    "colab_type": "text",
    "id": "dEapmbZRhFmA"
   },
   "source": [
    "# Getting Information about the features"
   ]
  },
  {
   "cell_type": "code",
   "execution_count": null,
   "metadata": {
    "colab": {
     "base_uri": "https://localhost:8080/",
     "height": 289
    },
    "colab_type": "code",
    "executionInfo": {
     "elapsed": 1331,
     "status": "ok",
     "timestamp": 1552272096743,
     "user": {
      "displayName": "Dalip Patra",
      "photoUrl": "",
      "userId": "05279892857404795105"
     },
     "user_tz": -330
    },
    "id": "priJBVNToEPl",
    "outputId": "10f86878-d4e7-4941-e7f0-5f8ff04bb6c4"
   },
   "outputs": [],
   "source": [
    "df_train.info()"
   ]
  },
  {
   "cell_type": "markdown",
   "metadata": {},
   "source": [
    "# Filtering out the dataset (Data Cleaning)"
   ]
  },
  {
   "cell_type": "code",
   "execution_count": null,
   "metadata": {
    "colab": {},
    "colab_type": "code",
    "id": "uvrnSyfjoHgo"
   },
   "outputs": [],
   "source": [
    "m=np.mean(df_train['trip_duration'])\n",
    "s= np.std(df_train['trip_duration'])\n",
    "df_train=df_train[df_train['trip_duration']<=m+2*s]\n",
    "df_train=df_train[df_train['trip_duration']>=m-2*s]"
   ]
  },
  {
   "cell_type": "code",
   "execution_count": null,
   "metadata": {
    "colab": {},
    "colab_type": "code",
    "id": "dyie2a4Bs_Yq"
   },
   "outputs": [],
   "source": [
    "df_train = df_train[df_train['pickup_longitude']<=-73.75]\n",
    "df_train = df_train[df_train['pickup_longitude']>=-74.03]\n",
    "df_train = df_train[df_train['pickup_latitude']<=40.85]\n",
    "df_train = df_train[df_train['pickup_latitude']>=40.63]\n",
    "df_train = df_train[df_train['dropoff_longitude']<=-73.75]\n",
    "df_train = df_train[df_train['dropoff_longitude']>=-74.03]\n",
    "df_train = df_train[df_train['dropoff_latitude']<=40.85]\n",
    "df_train = df_train[df_train['dropoff_latitude']>=40.63]\n"
   ]
  },
  {
   "cell_type": "markdown",
   "metadata": {},
   "source": [
    "# Preprocessing"
   ]
  },
  {
   "cell_type": "code",
   "execution_count": null,
   "metadata": {
    "colab": {},
    "colab_type": "code",
    "id": "9OwuK4EGwMi8"
   },
   "outputs": [],
   "source": [
    "df_train['pickup_datetime']=pd.to_datetime(df_train.pickup_datetime)\n",
    "df_test['pickup_datetime']=pd.to_datetime(df_test.pickup_datetime)\n",
    "df_train.loc[:,'pickup_date'] = df_train['pickup_datetime'].dt.date\n",
    "df_test.loc[:,'pickup_date'] = df_test['pickup_datetime'].dt.date\n",
    "df_train['dropoff_datetime']=pd.to_datetime(df_train.dropoff_datetime)"
   ]
  },
  {
   "cell_type": "code",
   "execution_count": null,
   "metadata": {
    "colab": {
     "base_uri": "https://localhost:8080/",
     "height": 306
    },
    "colab_type": "code",
    "executionInfo": {
     "elapsed": 1404,
     "status": "ok",
     "timestamp": 1552274857673,
     "user": {
      "displayName": "Dalip Patra",
      "photoUrl": "",
      "userId": "05279892857404795105"
     },
     "user_tz": -330
    },
    "id": "bIDqvmErxg6T",
    "outputId": "e3c9a2af-fdba-4d8a-9a40-7051cd718c05"
   },
   "outputs": [],
   "source": [
    "df_train.info()"
   ]
  },
  {
   "cell_type": "markdown",
   "metadata": {},
   "source": [
    "# Getting idea about the dataset"
   ]
  },
  {
   "cell_type": "code",
   "execution_count": null,
   "metadata": {
    "colab": {
     "base_uri": "https://localhost:8080/",
     "height": 606
    },
    "colab_type": "code",
    "executionInfo": {
     "elapsed": 1881,
     "status": "ok",
     "timestamp": 1552275695194,
     "user": {
      "displayName": "Dalip Patra",
      "photoUrl": "",
      "userId": "05279892857404795105"
     },
     "user_tz": -330
    },
    "id": "VzAPtfYRxi1E",
    "outputId": "58648b93-6777-4925-d35d-237ea899c8a6"
   },
   "outputs": [],
   "source": [
    "plt.rcParams['figure.figsize'] = [16, 10]\n",
    "plt.hist(df_train['trip_duration'].values,bins=100)\n",
    "plt.xlabel('Trip_duration')\n",
    "plt.ylabel('No_of_trips')\n",
    "plt.show()\n"
   ]
  },
  {
   "cell_type": "code",
   "execution_count": null,
   "metadata": {
    "colab": {
     "base_uri": "https://localhost:8080/",
     "height": 1263
    },
    "colab_type": "code",
    "executionInfo": {
     "elapsed": 2946,
     "status": "ok",
     "timestamp": 1552275709397,
     "user": {
      "displayName": "Dalip Patra",
      "photoUrl": "",
      "userId": "05279892857404795105"
     },
     "user_tz": -330
    },
    "id": "mOfTCqNLzh2T",
    "outputId": "5f354383-84a7-4f4a-f311-64d12e0596bc"
   },
   "outputs": [],
   "source": [
    "df_train['log_trip_duration']=np.log(df_train['trip_duration'].values+1)\n",
    "plt.hist(df_train['log_trip_duration'].values , bins=100)\n",
    "plt.xlabel('log(trip_duration)')\n",
    "plt.ylabel('no_of_observations')\n",
    "plt.show()\n",
    "sns.distplot(df_train['log_trip_duration'],bins=100)"
   ]
  },
  {
   "cell_type": "markdown",
   "metadata": {},
   "source": [
    "# Comparing and visualising training and test data."
   ]
  },
  {
   "cell_type": "code",
   "execution_count": null,
   "metadata": {
    "colab": {
     "base_uri": "https://localhost:8080/",
     "height": 606
    },
    "colab_type": "code",
    "executionInfo": {
     "elapsed": 2570,
     "status": "ok",
     "timestamp": 1552276969151,
     "user": {
      "displayName": "Dalip Patra",
      "photoUrl": "",
      "userId": "05279892857404795105"
     },
     "user_tz": -330
    },
    "id": "8XipoO551W_x",
    "outputId": "d900b907-f66b-4683-e1b9-0880653cbf09"
   },
   "outputs": [],
   "source": [
    "plt.plot(df_train.groupby('pickup_date').count()[['id']], '-o',label = 'train')\n",
    "plt.plot(df_test.groupby('pickup_date').count()[['id']] , '-o' ,label = 'test')\n",
    "plt.title('Trips Per Day')\n",
    "plt.legend(loc=1)\n",
    "plt.ylabel('Trips')\n",
    "plt.show()"
   ]
  },
  {
   "cell_type": "code",
   "execution_count": null,
   "metadata": {
    "colab": {},
    "colab_type": "code",
    "id": "TJTrO28f6Yh8"
   },
   "outputs": [],
   "source": [
    "import warnings\n",
    "warnings.filterwarnings('ignore')\n",
    "plot_vendor=df_train.groupby('vendor_id')['trip_duration'].mean()\n",
    "print(plot_vendor)\n",
    "plt.subplots(1,1,figsize=(15,10))\n",
    "plt.ylim(ymin=800)\n",
    "plt.ylim(ymax = 840)\n",
    "sns.barplot(plot_vendor.index,plot_vendor.values)\n",
    "plt.title('Time Per Vendor')\n",
    "#plt.legend(loc=1)\n",
    "plt.ylabel('Time in Seconds')"
   ]
  },
  {
   "cell_type": "code",
   "execution_count": null,
   "metadata": {},
   "outputs": [],
   "source": [
    "snwflag=df_train.groupby('store_and_fwd_flag')['trip_duration'].mean()\n",
    "plt.subplots(1,1,figsize=(17,10))\n",
    "plt.ylim(ymin=800)\n",
    "plt.ylim(ymax=1100)\n",
    "plt.title('Time per store_and_fwd_flag')\n",
    "plt.ylabel('Time in seconds')\n",
    "sns.barplot(snwflag.index,snwflag.values)"
   ]
  },
  {
   "cell_type": "code",
   "execution_count": null,
   "metadata": {},
   "outputs": [],
   "source": [
    "pc = df_train.groupby('passenger_count')['trip_duration'].mean()\n",
    "plt.subplots(1,1,figsize=(17,10))\n",
    "plt.ylabel('Time in seconds')\n",
    "\n",
    "plt.ylim(ymax = 1100)\n",
    "sns.barplot(pc.index,pc.values)"
   ]
  },
  {
   "cell_type": "code",
   "execution_count": null,
   "metadata": {},
   "outputs": [],
   "source": [
    "df_train.groupby('passenger_count').size()"
   ]
  },
  {
   "cell_type": "code",
   "execution_count": null,
   "metadata": {},
   "outputs": [],
   "source": [
    "df_test.groupby('passenger_count').size()"
   ]
  },
  {
   "cell_type": "code",
   "execution_count": null,
   "metadata": {},
   "outputs": [],
   "source": []
  }
 ],
 "metadata": {
  "colab": {
   "name": "NewYork City Taxi Trip Duration .ipynb",
   "provenance": [],
   "version": "0.3.2"
  },
  "kernelspec": {
   "display_name": "Python 3",
   "language": "python",
   "name": "python3"
  },
  "language_info": {
   "codemirror_mode": {
    "name": "ipython",
    "version": 3
   },
   "file_extension": ".py",
   "mimetype": "text/x-python",
   "name": "python",
   "nbconvert_exporter": "python",
   "pygments_lexer": "ipython3",
   "version": "3.7.0"
  }
 },
 "nbformat": 4,
 "nbformat_minor": 1
}
